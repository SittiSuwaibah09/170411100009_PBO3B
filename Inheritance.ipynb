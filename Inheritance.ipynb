{
 "cells": [
  {
   "cell_type": "markdown",
   "metadata": {},
   "source": [
    "# PBO Materi 2 (Inheritance)"
   ]
  },
  {
   "cell_type": "markdown",
   "metadata": {},
   "source": [
    "inheritance mewariskan semuanya ke anaknya. \n",
    "-Kelas dapat mewarisi fungsi kelas lain. Jika suatu objek dibuat menggunakan kelas yang mewarisi dari superclass, objek akan berisi metode dari kedua kelas dan superclass.\n",
    "-Inheritance (warisan atau turunan) adalah sebuah konsep yang penting di dalam Python. Inheritance adalah sebuah proses dimana sebuah class mengambil semua properti dan semua metode dari kelas lain.\n",
    "-Kelas yang disebut kelas anak atau subclass mewarisi metode dan variabel dari kelas induk atau kelas dasar\n",
    "-Type of Inheritance : simple inheritance, multilevel inheritance, heirarchical inheritance\n"
   ]
  },
  {
   "cell_type": "code",
   "execution_count": 1,
   "metadata": {},
   "outputs": [
    {
     "name": "stdout",
     "output_type": "stream",
     "text": [
      "Name : brian\n",
      "Name : diana\n",
      "Name : diana\n",
      "Programming Python\n"
     ]
    }
   ],
   "source": [
    "#contoh penggunaan inheritance\n",
    "#class user\n",
    "class User:\n",
    "    def __init__(self, name):\n",
    "        self.name = name\n",
    "        \n",
    "    def printName(self):\n",
    "        print(\"Name : \" + self.name)\n",
    "        \n",
    "class Programmer(User): #inheritance superClass-1(untuk memanggil print name bukan hanya muncul last name saja)\n",
    "    def __init__(self,lastname):\n",
    "        self.lastname = lastname\n",
    "        \n",
    "    def printlastname(self):\n",
    "        print(\"Name : \" + self.lastname)\n",
    "        \n",
    "    def doPython(self):\n",
    "        print(\"Programming Python\")\n",
    "        \n",
    "class Programmer1(User):\n",
    "    pass\n",
    "\n",
    "brian = User(\"brian\")\n",
    "brian.printName()\n",
    "\n",
    "diana1 = Programmer1(\"diana\")\n",
    "diana1.printName()\n",
    "\n",
    "diana = Programmer(\"diana\")\n",
    "diana.printlastname()\n",
    "diana.doPython()\n"
   ]
  },
  {
   "cell_type": "code",
   "execution_count": 2,
   "metadata": {},
   "outputs": [
    {
     "name": "stdout",
     "output_type": "stream",
     "text": [
      "TerryFish\n",
      "bone\n",
      "False\n",
      "The fish is swiming\n",
      "The fish can swim backwards\n",
      "TerrySFish\n",
      "no bone\n",
      "True\n"
     ]
    }
   ],
   "source": [
    "#contoh penggunaan inheritance\n",
    "#class fish\n",
    "class Fish :\n",
    "    def __init__(self,firstname, lastname= \"Fish\",\n",
    "                skeleton =\"bone\", eyelids= False):\n",
    "        self.firstname = firstname\n",
    "        self.lastname = lastname\n",
    "        self.skeleton = skeleton\n",
    "        self.eyelids = eyelids\n",
    "    def swim(self):\n",
    "        print (\"The fish is swiming\")\n",
    "    def swim_backwards(self):\n",
    "        print (\"The fish can swim backwards\")\n",
    "\n",
    "class Trout(Fish):\n",
    "    pass\n",
    "\n",
    "class Clownfish(Fish):\n",
    "    def live_with_anemone(self):\n",
    "        print (\"The clownfish is coexisting with sea anemoene\")\n",
    "\n",
    "terry = Trout(\"Terry\")\n",
    "print (terry.firstname+\"\"+terry.lastname)\n",
    "print (terry.skeleton)\n",
    "print (terry.eyelids)\n",
    "terry.swim()\n",
    "terry.swim_backwards()\n",
    "\n",
    "terry1=Trout(\"TerryS\", \"SmallFish\", \"no bone\", True)\n",
    "print (terry1.firstname+\"\"+terry.lastname)\n",
    "print(terry1.skeleton)\n",
    "print(terry1.eyelids)"
   ]
  }
 ],
 "metadata": {
  "kernelspec": {
   "display_name": "Python 3",
   "language": "python",
   "name": "python3"
  },
  "language_info": {
   "codemirror_mode": {
    "name": "ipython",
    "version": 3
   },
   "file_extension": ".py",
   "mimetype": "text/x-python",
   "name": "python",
   "nbconvert_exporter": "python",
   "pygments_lexer": "ipython3",
   "version": "3.6.5"
  }
 },
 "nbformat": 4,
 "nbformat_minor": 2
}
