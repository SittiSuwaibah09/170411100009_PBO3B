{
 "cells": [
  {
   "cell_type": "markdown",
   "metadata": {},
   "source": [
    "# PBO Materi 4 (Polymorphysme)"
   ]
  },
  {
   "cell_type": "markdown",
   "metadata": {},
   "source": [
    "Apa itu Polymorphysme?\n",
    "polymorphisme tersusun dari kata poly yang memiliki arti banyak dan  morphisme yang memiliki arti bentuk. jadi  arti dari Polymorphysme yaitu memiliki banyak bentuk, mempunyai nama yang sama, tetapi tidak pasti memiliki hasil yang sama.method di masing masing kelas memiliki nama yang sama dengan hasil yang berbeda, serta proses yang berbeda."
   ]
  },
  {
   "cell_type": "markdown",
   "metadata": {},
   "source": [
    "penggunaan polymorphysme"
   ]
  },
  {
   "cell_type": "code",
   "execution_count": null,
   "metadata": {},
   "outputs": [],
   "source": [
    "#pemanggilan dengan method\n",
    "class shark():\n",
    "    def swim(self):\n",
    "        print(\"The shark is swimming\")\n",
    "    def swim_backward(self):\n",
    "        print(\"the shark cannot swimming backward, but can swim backward\")\n",
    "    def skeleton(self):\n",
    "        print(\"the shark's skeleton is made of centilage\")\n",
    "class clownfish():\n",
    "    def swim(self):\n",
    "        print(\"The clownfish is swimming\")\n",
    "    def swim_backward(self):\n",
    "        print(\"the clownfish cannot swimming backward\")\n",
    "    def skeleton(self):\n",
    "        print(\"the clownfish's skeleton is made of bone\") \n",
    "        \n",
    "sammy=shark()\n",
    "#sammy.skeleton()\n",
    "casey = clownfish()\n",
    "#casey.skeleton()\n",
    "\n",
    "#with method\n",
    "for fish in ( sammy,casey):\n",
    "    fish.swim()\n",
    "    fish.swim_backwards()\n",
    "    fish.skelein()"
   ]
  },
  {
   "cell_type": "code",
   "execution_count": null,
   "metadata": {},
   "outputs": [],
   "source": [
    "#penggunaan dengan function\n",
    "\n",
    "class shark():\n",
    "    def swim(self):\n",
    "        print(\"The shark is swimming\")\n",
    "    def swim_backward(self):\n",
    "        print(\"the shark cannot swimming backward, but can swim backward\")\n",
    "    def skeleton(self):\n",
    "        print(\"the shark's skeleton is made of centilage\")\n",
    "class clownfish():\n",
    "    def swim(self):\n",
    "        print(\"The clownfish is swimming\")\n",
    "    def swim_backward(self):\n",
    "        print(\"the clownfish cannot swimming backward\")\n",
    "    def skeleton(self):\n",
    "        print(\"the clownfish's skeleton is made of bone\") \n",
    "def in_the_pacific(fish):\n",
    "    fish.swim()\n",
    "    \n",
    "sammy=shark()\n",
    "#sammy.skeleton()\n",
    "casey = clownfish()\n",
    "#casey.skeleton()\n",
    "\n",
    "#with fuction\n",
    "\n",
    "in_the_pacific(sammy)\n",
    "in_the_pacific(casey)\n",
    "    "
   ]
  },
  {
   "attachments": {},
   "cell_type": "markdown",
   "metadata": {},
   "source": [
    "   Contoh Soal\n",
    "1.Buat Kelas Pegawai yang merupakan Abstract Class\n",
    "2.Implementasikan  struktur berikut dengan Polymorphism with a Function\n",
    "3.Implementasikan  struktur berikut dengan Polymorphism with Class Methods\n",
    "4.Jika Manajer dan Programmer bukan merupakan base class, \n",
    "implementasikan poin 2 dan 3"
   ]
  },
  {
   "cell_type": "code",
   "execution_count": null,
   "metadata": {},
   "outputs": [],
   "source": [
    "class pegawai():\n",
    "    def __init__(self,nama,gaji):\n",
    "        self.nama = nama\n",
    "        self.gaji = gaji\n",
    "    def gaji(self):\n",
    "        raise NonplementError(\"Subclass must implement abstrack\")\n",
    "class manajer(pegawai):\n",
    "    def __init__(self,nama,gaji,tunjangan):\n",
    "        super().__init__(nama,gaji)\n",
    "        self.tunjangan = tunjangan\n",
    "    def GAJI(self):\n",
    "        bayaran=self.gaji+self.tunjangan\n",
    "        print(bayaran)\n",
    "class programmer(pegawai):\n",
    "    def __init__(self,nama,gaji,bonus):\n",
    "        super().__init__(nama,gaji)\n",
    "        self.bonus = bonus\n",
    "    def GAJI(self):\n",
    "        bayaran=self.gaji+self.bonus\n",
    "        print(bayaran)\n",
    "def show(s):\n",
    "    s.GAJI()\n",
    "suwi=manajer(\"ana\",2000000,1000000)       \n",
    "#suwi.GAJI() \n",
    "suwi1=programmer(\"suwi\",2000000,2000000)\n",
    "#suwi1.GAJI()\n",
    "for s in ( suwi,suwi1):\n",
    "    s.GAJI()\n",
    "    \n",
    "show(suwi)\n",
    "show(suwi1)\n",
    "    "
   ]
  }
 ],
 "metadata": {
  "kernelspec": {
   "display_name": "Python 3",
   "language": "python",
   "name": "python3"
  },
  "language_info": {
   "codemirror_mode": {
    "name": "ipython",
    "version": 3
   },
   "file_extension": ".py",
   "mimetype": "text/x-python",
   "name": "python",
   "nbconvert_exporter": "python",
   "pygments_lexer": "ipython3",
   "version": "3.6.5"
  }
 },
 "nbformat": 4,
 "nbformat_minor": 2
}
