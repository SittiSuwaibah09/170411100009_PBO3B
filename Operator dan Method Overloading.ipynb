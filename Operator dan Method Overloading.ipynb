{
 "cells": [
  {
   "cell_type": "markdown",
   "metadata": {},
   "source": [
    "# Operator and Method Overloading"
   ]
  },
  {
   "cell_type": "markdown",
   "metadata": {},
   "source": [
    "Overloading secara singkat yaitu :\n",
    "1.\tNama Method boleh sama , tapi jumlah Parameter mesti berbeda\n",
    "2.\tNilai yang di return harus memiliki Tipe yang sama\n",
    "\n",
    "Apa itu method overloading? Sebuah method dengan multiple cara, method sama dengan cara pemanggilan yang berbeda, method hanya satu dan pemanggilannya banyak\n",
    "\n",
    "Overloading operator adalah pembuatan beberapa fungsi atau kegunaan untuk suatu operator. Misalnya operator + dibuat tidak hanya untuk penjumlahan, tapi juga untuk fungsi lain"
   ]
  },
  {
   "cell_type": "markdown",
   "metadata": {},
   "source": [
    "#BINARY OPERATORS\n",
    "\n",
    "Operator\tmetode\n",
    "+\tobjek .__ add __ (self, lainnya)\n",
    "-\tobjek .__ sub __ (diri sendiri, lainnya)\n",
    "*\tobjek .__ mul __ (diri sendiri, lainnya)\n",
    "// //\tobjek .__ floordiv __ (diri sendiri, lainnya)\n",
    "/\tobjek .__ truediv __ (diri sendiri, lainnya)\n",
    "%\tobjek .__ mod __ (diri sendiri, lainnya)\n",
    "**\tobjek .__ pow __ (self, lainnya [, modulo])\n",
    "<<\tobjek .__ lshift __ (diri sendiri, lainnya)\n",
    ">>\tobjek .__ rshift __ (diri sendiri, lainnya)\n",
    "&\tobjek .__ dan __ (diri sendiri, lainnya)\n",
    "^\tobjek .__ xor __ (diri sendiri, lainnya)\n",
    "|\tobjek .__ atau __ (diri sendiri, lainnya)"
   ]
  },
  {
   "cell_type": "markdown",
   "metadata": {},
   "source": [
    "#EXTENDED ASSIGMENTS\n",
    "\n",
    "Operator\tmetode\n",
    "+ =\tobjek .__ iadd __ (diri sendiri, lainnya)\n",
    "- =\tobjek .__ isub __ (diri sendiri, lainnya)\n",
    "* =\tobjek .__ imul __ (diri sendiri, lainnya)\n",
    "/ =\tobjek .__ idiv __ (diri sendiri, lainnya)\n",
    "// =\tobjek .__ ifloordiv __ (diri sendiri, lainnya)\n",
    "% =\tobjek .__ imod __ (diri sendiri, lainnya)\n",
    "** =\tobjek .__ ipow __ (self, lainnya [, modulo])\n",
    "<< =\tobjek .__ ilshift __ (diri sendiri, lainnya)\n",
    ">> =\tobjek .__ irshift __ (diri sendiri, lainnya)\n",
    "& =\tobjek .__ iand __ (diri sendiri, lainnya)\n",
    "^ =\tobjek .__ ixor __ (diri sendiri, lainnya)\n",
    "| =\tobjek .__ ior __ (diri sendiri, lainnya)"
   ]
  },
  {
   "cell_type": "markdown",
   "metadata": {},
   "source": [
    "#UNARY OPERATORS\n",
    "\n",
    "Operator\tmetode\n",
    "-\tobjek .__ neg __ (diri)\n",
    "+\tobjek .__ pos __ (self)\n",
    "abs ()\tobjek .__ abs __ (self)\n",
    "~\tobjek .__ membalikkan __ (diri)\n",
    "kompleks()\tobjek .__ complex __ (self)\n",
    "int ()\tobjek .__ int __ (diri)\n",
    "panjang()\tobjek .__ long __ (diri)\n",
    "mengapung()\tobjek .__ float __ (self)\n",
    "ok ()\tobjek .__ oct __ (diri)\n",
    "hex ()\tobjek .__ hex __ (diri"
   ]
  },
  {
   "cell_type": "markdown",
   "metadata": {},
   "source": [
    "#COMPARISON OPERATORS\n",
    "\n",
    "Operator\tmetode\n",
    "<\tobjek .__ lt __ (diri sendiri, lainnya)\n",
    "<=\tobjek .__ le __ (diri sendiri, lainnya)\n",
    "==\tobjek .__ eq __ (diri sendiri, lainnya)\n",
    "! =\tobjek .__ ne __ (diri sendiri, lainnya)\n",
    "> =\tobjek .__ ge __ (diri sendiri, lainnya)\n",
    ">\tobjek .__ gt __ (diri sendiri, lainnya)"
   ]
  },
  {
   "cell_type": "raw",
   "metadata": {},
   "source": [
    "Contoh method overloading"
   ]
  },
  {
   "cell_type": "code",
   "execution_count": null,
   "metadata": {},
   "outputs": [],
   "source": [
    "#method overloading\n",
    "class Human:\n",
    "    def SayHello(self, name=None):\n",
    "        if name is not None:\n",
    "            print('Hello'+name)\n",
    "        else:\n",
    "            print('hello')\n",
    "#create instance\n",
    "obj = Human()\n",
    "#call the method\n",
    "obj.SayHello()\n",
    "#call the method with a parameter\n",
    "obj.SayHello('Guido')"
   ]
  },
  {
   "cell_type": "raw",
   "metadata": {},
   "source": [
    "contoh operator overloading"
   ]
  },
  {
   "cell_type": "code",
   "execution_count": null,
   "metadata": {},
   "outputs": [],
   "source": [
    "class point:\n",
    "    def __init__(self, x=0, y=0):\n",
    "        self.x = x\n",
    "        self.y = y\n",
    "    #def __str__(self):\n",
    "        #return \"({0},{1})\".format(self.x,self.y)\n",
    "    def __str__(self):\n",
    "        return \"point object is at: (\"+str(self.x)+\",\"+str(self.y)+\")\"\n",
    "    def __add__(self,other):\n",
    "        x = self.x - other.x\n",
    "        y = self.y - other.y\n",
    "        return point(x,y)\n",
    "    def __sub__(self,other):\n",
    "        x = self.x - other.x\n",
    "        y = self.y - other.y\n",
    "        return point(x,y)\n",
    "p1 = point(2,3)\n",
    "p2 = point(-1,2)\n",
    "print(p1-p2)\n",
    "print(p1.__add__(p2))"
   ]
  },
  {
   "cell_type": "code",
   "execution_count": null,
   "metadata": {},
   "outputs": [],
   "source": [
    "class fraction:\n",
    "    def __init__(self,top,bottom):\n",
    "        self.num = top\n",
    "        self.den = bottom\n",
    "    def show(self):\n",
    "        print(self.num,\"/\",self.den)\n",
    "    def __str__(self): #__str__ untuk mengubah objekmenjadi string\n",
    "        return str(self.num)+\"/\"+str(self.den)\n",
    "    def __add__(self,otherfraction):\n",
    "        #newnum = self.num*otherfraction.den+self.den*otherfraction.num\n",
    "        #newden = self.den*otherfraction.den\n",
    "        newnum = self.num*otherfraction.num\n",
    "        newden = self.den*otherfraction.den\n",
    "        return fraction(newnum,newden)\n",
    "f1=fraction(1,4)\n",
    "f2=fraction(1,2)\n",
    "print(f1+f2)\n",
    "    \n",
    "    \n",
    "f=fraction(2,4)\n",
    "print(f)\n",
    "suwi = fraction(20,40)\n",
    "suwi.show()"
   ]
  }
 ],
 "metadata": {
  "kernelspec": {
   "display_name": "Python 3",
   "language": "python",
   "name": "python3"
  },
  "language_info": {
   "codemirror_mode": {
    "name": "ipython",
    "version": 3
   },
   "file_extension": ".py",
   "mimetype": "text/x-python",
   "name": "python",
   "nbconvert_exporter": "python",
   "pygments_lexer": "ipython3",
   "version": "3.6.5"
  }
 },
 "nbformat": 4,
 "nbformat_minor": 2
}
