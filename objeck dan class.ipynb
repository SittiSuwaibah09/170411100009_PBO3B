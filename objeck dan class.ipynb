{
 "cells": [
  {
   "cell_type": "markdown",
   "metadata": {},
   "source": [
    "# PBO Materi 1 (Objek dan Class)"
   ]
  },
  {
   "cell_type": "markdown",
   "metadata": {},
   "source": [
    "apa itu Pemrograman Berorientasi Objek ?\n",
    "-pemrograman berorientasi objek adalah penyusunan pemrograman berdasarkan konseep objek, dimana di dalamnya terdapat objek dan class, serta ada method pula sebagai fungsinya.\n",
    "-class :class merupakan tempat pendefinisian dari atribut atribut yang menjadi ciri dari objek kelas tersebut dan method untuk digunakan pada usatu tujuan. contoh class manusia memiliki atribut berat, tinggi, usia, memiliki method makan, minum, tidur. Dalam penulisan keyword class diikuti nama kelas yag kita inginkan, lebih baik nama class diawali dengan huruf kapital.\n",
    "-objek :objek merupakan bentuk nyata dari class, setiap object itu memiliki atribut dan method yang dimiliki oleh class nya.\n",
    "\n",
    "Berikut merupakan contoh objek dan class :"
   ]
  },
  {
   "cell_type": "code",
   "execution_count": 1,
   "metadata": {},
   "outputs": [
    {
     "name": "stdout",
     "output_type": "stream",
     "text": [
      "4\n",
      "luas 16\n",
      "volume 64\n",
      "luas permukaan 24\n"
     ]
    }
   ],
   "source": [
    "#contoh class kubus\n",
    "class kubus:\n",
    "    def __init__(self,a):\n",
    "        self.sisi=a\n",
    "        \n",
    "    def tampilkansisi(self):\n",
    "        print(self.sisi)\n",
    "    def luas(self):\n",
    "        print(\"luas\",self.sisi**2)\n",
    "    def volume(self):\n",
    "        print(\"volume\",self.sisi**3)\n",
    "    def luas_permukaan(self):\n",
    "        print(\"luas permukaan\",self.sisi*6)\n",
    "    \n",
    "        \n",
    "kubus1=kubus(4)\n",
    "kubus1.tampilkansisi()\n",
    "kubus1.luas()\n",
    "kubus1.volume()\n",
    "kubus1.luas_permukaan()"
   ]
  },
  {
   "cell_type": "code",
   "execution_count": null,
   "metadata": {},
   "outputs": [],
   "source": [
    "#contoh class mahasiswa\n",
    "class mahasiswa:\n",
    "    def __init__(self,a,b,c):\n",
    "        self.npm=a\n",
    "        self.nama=b\n",
    "        self.ipk=c\n",
    "        \n",
    "    def tampilkannama(self):\n",
    "        print(\"Npm :\",self.npm,\"Nama :\",self.nama,\"Ipk :\",self.ipk)\n",
    "        \n",
    "    def predikat(self):\n",
    "        if self.ipk >= 3.5:\n",
    "            print(\"concluder\")\n",
    "        elif self.ipk < 3.5 or self.ipk > 3:\n",
    "            print(\"sangat memuaskan\")\n",
    "        elif self.ipk <=3 or self.ipk >2.5:\n",
    "            print(\"memuaskan\")\n",
    "        else:\n",
    "            print(\"cukup\")\n",
    "              \n",
    "mahasiswa1=mahasiswa(1,\"sui\",3.05)\n",
    "mahasiswa1.tampilkannama()\n",
    "mahasiswa1.predikat()"
   ]
  },
  {
   "cell_type": "code",
   "execution_count": null,
   "metadata": {},
   "outputs": [],
   "source": [
    "#class Nasabah\n",
    "class nasabah:\n",
    "    def __init__(self,a,b,c):\n",
    "        self.noNasabah=a\n",
    "        self.nama=b\n",
    "        self.noRek=c\n",
    "        \n",
    "    def tampil(self):\n",
    "        print(\"No Nasabah :\",self.noNasabah,\"|\",\"Nama :\",self.nama,\"|\",\"No Rekening\",self.noRek)\n",
    "\n",
    "nasabah1=nasabah(1111,\"Arif Arianto\",123456)\n",
    "nasabah1.tampil()\n",
    "class rekening:\n",
    "    def __init__(self,r,s):\n",
    "        self.noRek=r\n",
    "        self.saldo=s\n",
    "    def ambil_uang(self):\n",
    "        self.ambil_uang=int(input(\"ambil uang :\"))\n",
    "        self.saldo -= self.ambil_uang\n",
    "        print(\"jumlah uang yang diambil:\",self.ambil_uang)\n",
    "        print(\"saldo akhir:\",self.saldo)\n",
    "        \n",
    "    def setor_uang(self):\n",
    "        setor_uang=int(input(\"setor uang :\"))\n",
    "        self.saldo=self.saldo+setor_uang\n",
    "        print(\"jumlah uang yang disetor:\",setor_uang)\n",
    "        print(\"saldo akhir:\",self.saldo)\n",
    "        \n",
    "    def cek_saldo(self):\n",
    "        print(\"saldo akhir\",self.saldo)\n",
    "        \n",
    "rekening1=rekening(123456,20000)\n",
    "rekening1.ambil_uang()\n",
    "rekening1.setor_uang()\n",
    "rekening1.cek_saldo()"
   ]
  }
 ],
 "metadata": {
  "kernelspec": {
   "display_name": "Python 3",
   "language": "python",
   "name": "python3"
  },
  "language_info": {
   "codemirror_mode": {
    "name": "ipython",
    "version": 3
   },
   "file_extension": ".py",
   "mimetype": "text/x-python",
   "name": "python",
   "nbconvert_exporter": "python",
   "pygments_lexer": "ipython3",
   "version": "3.6.5"
  }
 },
 "nbformat": 4,
 "nbformat_minor": 2
}
