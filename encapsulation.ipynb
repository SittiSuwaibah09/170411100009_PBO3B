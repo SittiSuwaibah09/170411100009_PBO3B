{
 "cells": [
  {
   "cell_type": "markdown",
   "metadata": {},
   "source": [
    "# Encapsulation"
   ]
  },
  {
   "cell_type": "raw",
   "metadata": {},
   "source": [
    "encapsulation adalah pembugkusan atribut/properti (field atau variabel) dan tingkah laku (mehtod) di dalamsebuah kelas untuk menyembunyikannya dari kelas lain, sehingga kelas lain tidak dapat mengakses  atribut dan method yang disembunyikan di dalam kelas yang lainnya.didalam sebuah class terdapat atribut dan method yang memmiliki hak akses tertentu.\n",
    "\n",
    "encapsulation informasi tersembunyi yaitu properti & method yang bersifat private untuk bisa diakses diluar kelas. encapsulatio untuk mengakses yang sifatnya private. encapsulation cara untuk mengakses method dan atribut yang bersifat private yang hanya bisa diakses kelas itu sendiri.\n",
    "\n",
    "jadi encapsulation itu membatasi akses ke method dan variabel untuk mencegah data dari modifikasi langsung yang \n",
    "\n",
    "-public method = dapat diakses dari mana saja\n",
    "-private method = hanya dapat diakses di kelas mereka sendiri. dimulai dengan dua garis bawah (__)\n",
    "-public variables = dapat diakses darimana saja\n",
    "-private variables = hanya dapat diakses di kelas mereka sendiri atau dengan metode yang ditentukan. dimulai dengan dua garis bawah (__)"
   ]
  },
  {
   "cell_type": "code",
   "execution_count": 7,
   "metadata": {},
   "outputs": [
    {
     "name": "stdout",
     "output_type": "stream",
     "text": [
      "updating software\n",
      "driving\n",
      "updating software\n"
     ]
    }
   ],
   "source": [
    "#contoh private method\n",
    "class Car:\n",
    "\n",
    "    def __init__(self):\n",
    "        self.__updateSoftware()\n",
    "\n",
    "    def drive(self):\n",
    "        print('driving')\n",
    "\n",
    "    def __updateSoftware(self):\n",
    "        print('updating software')\n",
    "\n",
    "redcar = Car()\n",
    "redcar.drive()\n",
    "redcar._Car__updateSoftware()\n"
   ]
  },
  {
   "cell_type": "code",
   "execution_count": 8,
   "metadata": {},
   "outputs": [
    {
     "name": "stdout",
     "output_type": "stream",
     "text": [
      "driving. maxspeed 200\n",
      "driving. maxspeed 200\n"
     ]
    }
   ],
   "source": [
    "#contoh private variables\n",
    "#private variables hanya dapat diubah dalam method yang ada di kelas dan bukan di luar kelas.\n",
    "class Car:\n",
    "\n",
    "    __maxspeed = 0\n",
    "    __name = \"\"\n",
    "\n",
    "    def __init__(self):\n",
    "        self.__maxspeed = 200\n",
    "        self.__name = \"Supercar\"\n",
    "\n",
    "    def drive(self):\n",
    "        print('driving. maxspeed ' + str(self.__maxspeed))\n",
    "\n",
    "redcar = Car()\n",
    "redcar.drive()\n",
    "redcar.__maxspeed = 10  # will not change variable because its private\n",
    "redcar.drive()\n"
   ]
  },
  {
   "cell_type": "code",
   "execution_count": 6,
   "metadata": {},
   "outputs": [
    {
     "name": "stdout",
     "output_type": "stream",
     "text": [
      "This is a public method\n",
      "This is a private method\n",
      "This is another private Method\n"
     ]
    }
   ],
   "source": [
    "class A(object):\n",
    "    # public method\n",
    "    def myPublicMethod(self):\n",
    "        return \"This is a public method\"\n",
    "\n",
    "    # private method with single _underscore\n",
    "    def _myPrivateMethod(self):\n",
    "        return \"This is a private method\"\n",
    "\n",
    "    # private metod with double __undersore\n",
    "    def __myAnotherPrivateMethod(self):\n",
    "        return \"This is another private Method\"\n",
    "\n",
    "\n",
    "obj = A()\n",
    "# Kita dapat mengakses metode publik yang keren !!!\n",
    "print(obj.myPublicMethod())   #Output : This is a public method\n",
    "\n",
    "# Perhatikan bahwa kami juga dapat mengakses private method dari luar\n",
    "print(obj._myPrivateMethod()) #Output : This is a private method\n",
    "\n",
    "# Namun, Anda masih bisa memanggil methode double underscore\n",
    "# dengan menambahkan nama _class sebelum nama method\n",
    "print(obj._A__myAnotherPrivateMethod()) #Output:This is another private Method\n"
   ]
  },
  {
   "cell_type": "code",
   "execution_count": 2,
   "metadata": {},
   "outputs": [
    {
     "name": "stdout",
     "output_type": "stream",
     "text": [
      "updating software\n",
      "driving\n"
     ]
    }
   ],
   "source": [
    "class Car:\n",
    " \n",
    "    def __init__(self):\n",
    "        self.__updateSoftware()\n",
    " \n",
    "    def drive(self):\n",
    "        print ('driving')\n",
    " \n",
    "    def __updateSoftware(self):\n",
    "        print ('updating software')\n",
    " \n",
    "redcar = Car()\n",
    "redcar.drive()\n",
    "#redcar.__updateSoftware\n"
   ]
  },
  {
   "cell_type": "code",
   "execution_count": 12,
   "metadata": {},
   "outputs": [
    {
     "name": "stdout",
     "output_type": "stream",
     "text": [
      "NIM =1009\n",
      "NAMA = suwi\n"
     ]
    }
   ],
   "source": [
    "class mahasiswa:\n",
    "    __npm = 0\n",
    "    __namamahasiswa = \"\"\n",
    "    \n",
    "    def __init__(self):\n",
    "        self.__npm = 1009\n",
    "        self.__namamahasiswa = \"suwi\"\n",
    "    def show(self):\n",
    "        print(\"NIM =\" +str(self.__npm))\n",
    "        print(\"NAMA = \" +str(self.__namamahasiswa))\n",
    "    def setMaxSpeed(self,speed):\n",
    "        self.__maxspeed = speed\n",
    "        \n",
    "sw = mahasiswa()\n",
    "sw.show()\n",
    "sw.setMaxSpeed(10)\n"
   ]
  },
  {
   "cell_type": "code",
   "execution_count": 14,
   "metadata": {},
   "outputs": [
    {
     "name": "stdout",
     "output_type": "stream",
     "text": [
      "10\n",
      "luas 100\n"
     ]
    }
   ],
   "source": [
    "class kubus:\n",
    "    __sisi = 0\n",
    "    def __init__(self):\n",
    "        self.__sisi=10\n",
    "        \n",
    "    def tampilkansisi(self):\n",
    "        print(self.__sisi)\n",
    "    def __luas(self):\n",
    "        print(\"luas\",self.__sisi**2)\n",
    "    \n",
    "        \n",
    "kubus1=kubus()\n",
    "kubus1.tampilkansisi()\n",
    "kubus1._kubus__luas()\n"
   ]
  }
 ],
 "metadata": {
  "kernelspec": {
   "display_name": "Python 3",
   "language": "python",
   "name": "python3"
  },
  "language_info": {
   "codemirror_mode": {
    "name": "ipython",
    "version": 3
   },
   "file_extension": ".py",
   "mimetype": "text/x-python",
   "name": "python",
   "nbconvert_exporter": "python",
   "pygments_lexer": "ipython3",
   "version": "3.6.5"
  }
 },
 "nbformat": 4,
 "nbformat_minor": 2
}
