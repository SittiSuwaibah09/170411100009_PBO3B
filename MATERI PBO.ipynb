{
 "cells": [
  {
   "cell_type": "markdown",
   "metadata": {},
   "source": [
    "Materi 3 September 2018\n",
    "\n",
    "# PERSEGI"
   ]
  },
  {
   "cell_type": "markdown",
   "metadata": {},
   "source": [
    "Class dan Objec\n",
    "Class adalah prototipe yang di tentukan pengguna untuk objek yang mendefinisikan seperangkat atributyang menjadi ciri objek kelas apa pun. Atribut adalah data anggota (variabel kelas dan variabel ontoh) dan metode, diakses memalui  notasi titik.\n",
    "Method adalah jenis fungsi khusus yang didefinisikan dalam definisi kelas.\n",
    "Object adalah contoh unik dari struktur data yang didefinisikan oleh kelasnya.Objek terdiri dari kedua anggota data(variabel kelas dan variabel contoh) dan metode."
   ]
  },
  {
   "cell_type": "code",
   "execution_count": 9,
   "metadata": {},
   "outputs": [
    {
     "name": "stdout",
     "output_type": "stream",
     "text": [
      "4\n",
      "luas 16\n",
      "volume 64\n",
      "luas permukaan 24\n"
     ]
    }
   ],
   "source": [
    "class kubus:\n",
    "    def __init__(self,a):\n",
    "        self.sisi=a\n",
    "        \n",
    "    def tampilkansisi(self):\n",
    "        print(self.sisi)\n",
    "    def luas(self):\n",
    "        print(\"luas\",self.sisi**2)\n",
    "    def volume(self):\n",
    "        print(\"volume\",self.sisi**3)\n",
    "    def luas_permukaan(self):\n",
    "        print(\"luas permukaan\",self.sisi*6)\n",
    "    \n",
    "        \n",
    "kubus1=kubus(4)\n",
    "kubus1.tampilkansisi()\n",
    "kubus1.luas()\n",
    "kubus1.volume()\n",
    "kubus1.luas_permukaan()"
   ]
  },
  {
   "cell_type": "markdown",
   "metadata": {},
   "source": [
    "# MAHASISWA"
   ]
  },
  {
   "cell_type": "code",
   "execution_count": 21,
   "metadata": {},
   "outputs": [
    {
     "name": "stdout",
     "output_type": "stream",
     "text": [
      "Npm : 1 Nama : sui Ipk : 3.05\n",
      "sangat memuaskan\n"
     ]
    }
   ],
   "source": [
    "class mahasiswa:\n",
    "    def __init__(self,a,b,c):\n",
    "        self.npm=a\n",
    "        self.nama=b\n",
    "        self.ipk=c\n",
    "        \n",
    "    def tampilkannama(self):\n",
    "        print(\"Npm :\",self.npm,\"Nama :\",self.nama,\"Ipk :\",self.ipk)\n",
    "        \n",
    "    def predikat(self):\n",
    "        if self.ipk >= 3.5:\n",
    "            print(\"concluder\")\n",
    "        elif self.ipk < 3.5 or self.ipk > 3:\n",
    "            print(\"sangat memuaskan\")\n",
    "        elif self.ipk <=3 or self.ipk >2.5:\n",
    "            print(\"memuaskan\")\n",
    "        else:\n",
    "            print(\"cukup\")\n",
    "              \n",
    "mahasiswa1=mahasiswa(1,\"sui\",3.05)\n",
    "mahasiswa1.tampilkannama()\n",
    "mahasiswa1.predikat()"
   ]
  },
  {
   "cell_type": "markdown",
   "metadata": {},
   "source": [
    "# NASABAH"
   ]
  },
  {
   "cell_type": "code",
   "execution_count": 31,
   "metadata": {},
   "outputs": [
    {
     "name": "stdout",
     "output_type": "stream",
     "text": [
      "No Nasabah : 1111 | Nama : Arif Arianto | No Rekening 123456\n",
      "ambil uang :1000\n",
      "jumlah uang yang diambil: 1000\n",
      "saldo akhir: 19000\n",
      "setor uang :20000\n",
      "jumlah uang yang disetor: 20000\n",
      "saldo akhir: 40000\n"
     ]
    },
    {
     "ename": "NameError",
     "evalue": "name 'ambil_uang' is not defined",
     "output_type": "error",
     "traceback": [
      "\u001b[1;31m---------------------------------------------------------------------------\u001b[0m",
      "\u001b[1;31mNameError\u001b[0m                                 Traceback (most recent call last)",
      "\u001b[1;32m<ipython-input-31-3287fe3278aa>\u001b[0m in \u001b[0;36m<module>\u001b[1;34m()\u001b[0m\n\u001b[0;32m     33\u001b[0m \u001b[0mrekening1\u001b[0m\u001b[1;33m.\u001b[0m\u001b[0mambil_uang\u001b[0m\u001b[1;33m(\u001b[0m\u001b[1;33m)\u001b[0m\u001b[1;33m\u001b[0m\u001b[0m\n\u001b[0;32m     34\u001b[0m \u001b[0mrekening1\u001b[0m\u001b[1;33m.\u001b[0m\u001b[0msetor_uang\u001b[0m\u001b[1;33m(\u001b[0m\u001b[1;33m)\u001b[0m\u001b[1;33m\u001b[0m\u001b[0m\n\u001b[1;32m---> 35\u001b[1;33m \u001b[0mrekening1\u001b[0m\u001b[1;33m.\u001b[0m\u001b[0mcek_saldo\u001b[0m\u001b[1;33m(\u001b[0m\u001b[1;33m)\u001b[0m\u001b[1;33m\u001b[0m\u001b[0m\n\u001b[0m",
      "\u001b[1;32m<ipython-input-31-3287fe3278aa>\u001b[0m in \u001b[0;36mcek_saldo\u001b[1;34m(self)\u001b[0m\n\u001b[0;32m     27\u001b[0m \u001b[1;33m\u001b[0m\u001b[0m\n\u001b[0;32m     28\u001b[0m     \u001b[1;32mdef\u001b[0m \u001b[0mcek_saldo\u001b[0m\u001b[1;33m(\u001b[0m\u001b[0mself\u001b[0m\u001b[1;33m)\u001b[0m\u001b[1;33m:\u001b[0m\u001b[1;33m\u001b[0m\u001b[0m\n\u001b[1;32m---> 29\u001b[1;33m         \u001b[0msaldoAkhir\u001b[0m\u001b[1;33m=\u001b[0m\u001b[0mself\u001b[0m\u001b[1;33m.\u001b[0m\u001b[0msaldo\u001b[0m\u001b[1;33m-\u001b[0m\u001b[0mambil_uang\u001b[0m\u001b[1;33m+\u001b[0m\u001b[0mjmlsaldo\u001b[0m\u001b[1;33m\u001b[0m\u001b[0m\n\u001b[0m\u001b[0;32m     30\u001b[0m         \u001b[0mprint\u001b[0m\u001b[1;33m(\u001b[0m\u001b[1;34m\"saldo akhir\"\u001b[0m\u001b[1;33m,\u001b[0m\u001b[0msaldoAkhir\u001b[0m\u001b[1;33m)\u001b[0m\u001b[1;33m\u001b[0m\u001b[0m\n\u001b[0;32m     31\u001b[0m \u001b[1;33m\u001b[0m\u001b[0m\n",
      "\u001b[1;31mNameError\u001b[0m: name 'ambil_uang' is not defined"
     ]
    }
   ],
   "source": [
    "class nasabah:\n",
    "    def __init__(self,a,b,c):\n",
    "        self.noNasabah=a\n",
    "        self.nama=b\n",
    "        self.noRek=c\n",
    "        \n",
    "    def tampil(self):\n",
    "        print(\"No Nasabah :\",self.noNasabah,\"|\",\"Nama :\",self.nama,\"|\",\"No Rekening\",self.noRek)\n",
    "\n",
    "nasabah1=nasabah(1111,\"Arif Arianto\",123456)\n",
    "nasabah1.tampil()\n",
    "class rekening:\n",
    "    def __init__(self,r,s):\n",
    "        self.noRek=r\n",
    "        self.saldo=s\n",
    "    def ambil_uang(self):\n",
    "        ambil_uang=int(input(\"ambil uang :\"))\n",
    "        hasil=self.saldo-ambil_uang\n",
    "        print(\"jumlah uang yang diambil:\",ambil_uang)\n",
    "        print(\"saldo akhir:\",hasil)\n",
    "        \n",
    "    def setor_uang(self):\n",
    "        setor_uang=int(input(\"setor uang :\"))\n",
    "        jmlsaldo=self.saldo+setor_uang\n",
    "        print(\"jumlah uang yang disetor:\",setor_uang)\n",
    "        print(\"saldo akhir:\",jmlsaldo)\n",
    "        \n",
    "    def cek_saldo(self):\n",
    "        saldoAkhir=self.saldo-ambil_uang+jmlsaldo\n",
    "        print(\"saldo akhir\",saldoAkhir)\n",
    "        \n",
    "rekening1=rekening(123456,20000)\n",
    "rekening1.ambil_uang()\n",
    "rekening1.setor_uang()\n",
    "rekening1.cek_saldo()"
   ]
  },
  {
   "cell_type": "markdown",
   "metadata": {},
   "source": [
    "Tgl 10/09/2018\n",
    "# inheritance class\n",
    "mewariskan semuanya ke anaknya. \n",
    "-Kelas dapat mewarisi fungsi kelas lain. Jika suatu objek dibuat menggunakan kelas yang mewarisi dari superclass, objek akan berisi metode dari kedua kelas dan superclass.\n",
    "-Inheritance (warisan atau turunan) adalah sebuah konsep yang penting di dalam Python. Inheritance adalah sebuah proses dimana sebuah class mengambil semua properti dan semua metode dari kelas lain.\n",
    "-Kelas yang disebut kelas anak atau subclass mewarisi metode dan variabel dari kelas induk atau kelas dasar"
   ]
  },
  {
   "cell_type": "code",
   "execution_count": 9,
   "metadata": {},
   "outputs": [
    {
     "name": "stdout",
     "output_type": "stream",
     "text": [
      "Name : brian\n",
      "Name : diana\n",
      "Name : diana\n",
      "Programming Python\n"
     ]
    }
   ],
   "source": [
    "class User:\n",
    "    def __init__(self, name):\n",
    "        self.name = name\n",
    "        \n",
    "    def printName(self):\n",
    "        print(\"Name : \" + self.name)\n",
    "        \n",
    "class Programmer(User): #inheritance superClass-1(untuk memanggil print name bukan hanya muncul last name saja)\n",
    "    def __init__(self,lastname):\n",
    "        self.lastname = lastname\n",
    "        \n",
    "    def printlastname(self):\n",
    "        print(\"Name : \" + self.lastname)\n",
    "        \n",
    "    def doPython(self):\n",
    "        print(\"Programming Python\")\n",
    "        \n",
    "class Programmer1(User):\n",
    "    pass\n",
    "\n",
    "brian = User(\"brian\")\n",
    "brian.printName()\n",
    "\n",
    "diana1 = Programmer1(\"diana\")\n",
    "diana1.printName()\n",
    "\n",
    "diana = Programmer(\"diana\")\n",
    "diana.printlastname()\n",
    "diana.doPython()\n"
   ]
  },
  {
   "cell_type": "code",
   "execution_count": 1,
   "metadata": {},
   "outputs": [
    {
     "name": "stdout",
     "output_type": "stream",
     "text": [
      "TerryFish\n",
      "bone\n",
      "False\n",
      "The fish is swiming\n",
      "The fish can swim backwards\n",
      "TerrySFish\n",
      "no bone\n",
      "True\n"
     ]
    }
   ],
   "source": [
    "class Fish :\n",
    "    def __init__(self,firstname, lastname= \"Fish\",\n",
    "                skeleton =\"bone\", eyelids= False):\n",
    "        self.firstname = firstname\n",
    "        self.lastname = lastname\n",
    "        self.skeleton = skeleton\n",
    "        self.eyelids = eyelids\n",
    "    def swim(self):\n",
    "        print (\"The fish is swiming\")\n",
    "    def swim_backwards(self):\n",
    "        print (\"The fish can swim backwards\")\n",
    "\n",
    "class Trout(Fish):\n",
    "    pass\n",
    "\n",
    "class Clownfish(Fish):\n",
    "    def live_with_anemone(self):\n",
    "        print (\"The clownfish is coexisting with sea anemoene\")\n",
    "\n",
    "terry = Trout(\"Terry\")\n",
    "print (terry.firstname+\"\"+terry.lastname)\n",
    "print (terry.skeleton)\n",
    "print (terry.eyelids)\n",
    "terry.swim()\n",
    "terry.swim_backwards()\n",
    "\n",
    "terry1=Trout(\"TerryS\", \"SmallFish\", \"no bone\", True)\n",
    "print (terry1.firstname+\"\"+terry.lastname)\n",
    "print(terry1.skeleton)\n",
    "print(terry1.eyelids)\n"
   ]
  },
  {
   "cell_type": "markdown",
   "metadata": {},
   "source": [
    "# materi PBO 17/09/18"
   ]
  },
  {
   "cell_type": "markdown",
   "metadata": {},
   "source": [
    "inheritaanace=pewarisan ke sub class yang diwariskan adalah method dan proporty\n",
    "TIPE-TIPE INHERITANCE:\n",
    "-default: menggunakan semua properti dan method yang ada di current class semua induk diwariskan ke anknya tanpa ada tambahan\n",
    "-overriding: tidak ada properti tambahan kelas anak dapat di modivikasibaik nilai\n",
    "method boleh dikurangi boleh ditambah, harus menyakan atribut dari anak sama induk\n",
    "properti nya sama, Metode override di kelas anak harus memiliki nama, signature, dan parameter yang sama dengan yang ada di kelas induknya.\n",
    "-super: dipakai untuk saat btuh properti khsus atau properti yang berbeda dengan induknya.super biasanya hanya digunakan di constructor\n",
    "-multiple inheritance: memiliki dua atau lebih parent class serta mewarisi semua properti "
   ]
  },
  {
   "cell_type": "markdown",
   "metadata": {},
   "source": [
    "contoh overidding-->"
   ]
  },
  {
   "cell_type": "code",
   "execution_count": 6,
   "metadata": {},
   "outputs": [
    {
     "name": "stdout",
     "output_type": "stream",
     "text": [
      "The shark cannot swim backwards, but can sink backwward\n"
     ]
    }
   ],
   "source": [
    "class Fish :\n",
    "    def __init__(self,firstname, lastname= \"Fish\",\n",
    "                skeleton =\"bone\", eyelids= False):\n",
    "        self.firstname = firstname\n",
    "        self.lastname = lastname\n",
    "        self.skeleton = skeleton\n",
    "        self.eyelids = eyelids\n",
    "    def swim(self):\n",
    "        print (\"The fish is swiming\")\n",
    "    def swim_backwards(self):\n",
    "        print (\"The fish can swim backwards\")\n",
    "        \n",
    "class Shark(Fish):\n",
    "    def __init__(self,firstname, lastname= \"Shark\",\n",
    "                skeleton =\"Cartilage\", eyelids= False):\n",
    "        self.firstname = firstname\n",
    "        self.lastname = lastname\n",
    "        self.skeleton = skeleton\n",
    "        self.eyelids = eyelids\n",
    "    \n",
    "    def swim_backwards(self):\n",
    "        print (\"The shark cannot swim backwards, but can sink backwward\")  \n",
    "        \n",
    "hiu=Shark('hiu besar')\n",
    "hiu.swim_backwards()"
   ]
  },
  {
   "cell_type": "code",
   "execution_count": 17,
   "metadata": {},
   "outputs": [
    {
     "name": "stdout",
     "output_type": "stream",
     "text": [
      "jumlah sisi adalah 4\n",
      "bentuk nya adalah persegi\n",
      "memiliki dua pasang sisi berbeda, bentuknya persegi panjang\n",
      "keempatnya memiliki panjang sisi yang sama, bentuknya bujur sangkar\n"
     ]
    }
   ],
   "source": [
    "class Persegi:\n",
    "    def __init__(self,sisi=4,bentuk=\"persegi\"):\n",
    "        self.sisi = sisi\n",
    "        self.bentuk = bentuk\n",
    "    def display(self):\n",
    "        print(\"jumlah sisi adalah\",self.sisi)\n",
    "        print(\"bentuk nya adalah\",self.bentuk)\n",
    "    \n",
    "class Persegi_Panjang(Persegi):\n",
    "    def __init__(self,bentuk=\"persegi panjang\"):\n",
    "        self.bentuk=bentuk\n",
    "        \n",
    "    def deskripsi(self):\n",
    "        print(\"memiliki dua pasang sisi berbeda, bentuknya\",self.bentuk)\n",
    "    \n",
    "class Bujur_Sangkar(Persegi):\n",
    "    def __init__(self,bentuk=\"bujur sangkar\"):\n",
    "        self.bentuk=bentuk\n",
    "        \n",
    "    def deskripsi(self):\n",
    "        print(\"keempatnya memiliki panjang sisi yang sama, bentuknya\",self.bentuk)\n",
    "        \n",
    "a=Persegi()\n",
    "a.display()\n",
    "a=Persegi_Panjang()\n",
    "a.deskripsi()\n",
    "a=Bujur_Sangkar()\n",
    "a.deskripsi()"
   ]
  },
  {
   "cell_type": "markdown",
   "metadata": {},
   "source": [
    "Super contoh :"
   ]
  },
  {
   "cell_type": "code",
   "execution_count": null,
   "metadata": {},
   "outputs": [],
   "source": [
    "print('====== No. 1 =======')\n",
    "class User:\n",
    "    def __init__(self, firstname):\n",
    "        self.firstname = firstname\n",
    "    def printName(self):\n",
    "        print('First Name :', self.firstname)\n",
    "\n",
    "class Programmer(User):\n",
    "    def __init__(self, firstname, lastname):\n",
    "        self.lastname = lastname\n",
    "        super().__init__(firstname)\n",
    "    def printLastname(self):\n",
    "        print('Last Name :', self.lastname,'\\n')\n",
    "\n",
    "    def printData(self):\n",
    "        print('Nama lengkap:',self.firstname,self.lastname,'\\n')\n",
    "\n",
    "#Main Program NO. 1\n",
    "sitti = User(\"Sitti\")\n",
    "sitti.printName()\n",
    "sitti1 = Programmer('Sitti','Suwaibah')\n",
    "sitti1.printName()\n",
    "sitti1.printLastname()\n",
    "sitti1.printData()\n",
    "\n",
    "wija = User('Wijanarko')\n",
    "wija.printName()\n",
    "wija1 = Programmer('Wijanarko','Putra Rajeb')\n",
    "wija1.printName()\n",
    "wija1.printLastname()\n",
    "wija1.printData()\n",
    "\n",
    "        \n",
    "print('====== No. 2 =======')\n",
    "class Orang:\n",
    "    def __init__(self,nama):\n",
    "        self.nama = nama;\n",
    "    def printNama(self):\n",
    "        print('Nama :',self.nama)\n",
    "\n",
    "class Mahasiswa(Orang):\n",
    "    def __init__(self, nama, npm):\n",
    "        self.npm = npm;\n",
    "        super().__init__(nama)\n",
    "        \n",
    "    def semester(self):\n",
    "        from datetime import datetime\n",
    "        tahun = datetime.now().year\n",
    "        bulan = datetime.now().month\n",
    "        tahun_in = '20'+self.npm[0:2]\n",
    "        self.semester = (tahun - int(tahun_in))*2\n",
    "        if bulan > 6:\n",
    "            self.semester += 1\n",
    "        print(\"Semester :\", self.semester)\n",
    "    def printData(self):\n",
    "        print('Mahasiswa :')\n",
    "        Orang.printNama(self)\n",
    "        print('NIM  :', self.npm)\n",
    "        Mahasiswa.semester(self)\n",
    "        print()\n",
    "\n",
    "class Pegawai(Orang):\n",
    "    def __init__(self, nama, nip):\n",
    "        self.nip = nip\n",
    "        super().__init__(nama)\n",
    "            \n",
    "class Dosen(Pegawai):\n",
    "    def __init__(self,nama, nip, nidn):\n",
    "        self.nidn = nidn\n",
    "        super().__init__(nama, nip)\n",
    "    def printData(self):\n",
    "        print('Dosen :')\n",
    "        Orang.printNama(self)\n",
    "        print('NIP  : %s\\nNIDN : %s\\n'%(self.nip, self.nidn))\n",
    "\n",
    "class Karyawan(Pegawai):\n",
    "    def printData(self):\n",
    "        print('Karyawan :')\n",
    "        Orang.printNama(self)\n",
    "        print('NIP  :',self.nip)\n",
    "\n",
    "\n",
    "#Main Program No. 2\n",
    "joddi = Mahasiswa('Jonathan','180411100000')\n",
    "joddi.printData()\n",
    "\n",
    "arik = Dosen('Arik Kurniawati','123904','198304')\n",
    "arik.printData()\n",
    "\n",
    "\n",
    "bram = Karyawan('Bramantiyo','123345')\n",
    "bram.printData()\n"
   ]
  },
  {
   "cell_type": "markdown",
   "metadata": {},
   "source": [
    "contoh super di pakai di multiple inheritance"
   ]
  },
  {
   "cell_type": "code",
   "execution_count": null,
   "metadata": {},
   "outputs": [
    {
     "name": "stdout",
     "output_type": "stream",
     "text": [
      "nama=suwi\n",
      "npm=170411100009\n",
      "Nilai:\n",
      "match=90\n",
      "biology=90\n",
      "nama=suwi\n",
      "npm=12\n",
      "Nilai:\n"
     ]
    }
   ],
   "source": [
    "class person:\n",
    "    def __init__(self):\n",
    "        self.name = input(\"nama=\")\n",
    "        \n",
    "    def display(self):\n",
    "        print(\"\\n\\name :\",self.name)\n",
    "        \n",
    "class marks:\n",
    "    def __init__(self):\n",
    "        self.npm = input(\"npm=\")\n",
    "        print(\"Nilai:\")\n",
    "        self.match = int(input(\"match=\"))\n",
    "        self.biology = int(input(\"biology=\"))\n",
    "        \n",
    "    def display(self):\n",
    "        print(\"npm:\",self.npm)\n",
    "        print(\"nilai:\",self.match + self.biology)\n",
    "        \n",
    "class student(person,marks):\n",
    "    def __init__(self):\n",
    "        person.__init__(self)\n",
    "        marks.__init__(self)\n",
    "        \n",
    "stu1=student()\n",
    "stu2=student()\n",
    "stu1.result()\n",
    "stu2.result()"
   ]
  },
  {
   "cell_type": "code",
   "execution_count": 2,
   "metadata": {},
   "outputs": [
    {
     "name": "stdout",
     "output_type": "stream",
     "text": [
      "penjumlahan =  17\n",
      "pengurangan =  1\n",
      "perkalian =  72\n",
      "pembagian =  1.125\n"
     ]
    }
   ],
   "source": [
    "class bilangan:\n",
    "    def __init__(self,b1,b2):\n",
    "        self.bil1 = b1\n",
    "        self.bil2 = b2\n",
    "    def penjumlahan(self):\n",
    "        print(\"penjumlahan = \",self.bil1+self.bil2)\n",
    "    def pengurangan(self):\n",
    "        print(\"pengurangan = \",self.bil1-self.bil2)\n",
    "    def perkalian(self):\n",
    "        print(\"perkalian = \",self.bil1*self.bil2)\n",
    "    def pembagian(self):\n",
    "        print(\"pembagian = \",self.bil1/self.bil2)\n",
    "        \n",
    "\n",
    "bilangan1=bilangan(9,8)\n",
    "bilangan1.penjumlahan()\n",
    "bilangan1.pengurangan()\n",
    "bilangan1.perkalian()\n",
    "bilangan1.pembagian()\n"
   ]
  },
  {
   "cell_type": "code",
   "execution_count": null,
   "metadata": {},
   "outputs": [],
   "source": []
  }
 ],
 "metadata": {
  "kernelspec": {
   "display_name": "Python 3",
   "language": "python",
   "name": "python3"
  },
  "language_info": {
   "codemirror_mode": {
    "name": "ipython",
    "version": 3
   },
   "file_extension": ".py",
   "mimetype": "text/x-python",
   "name": "python",
   "nbconvert_exporter": "python",
   "pygments_lexer": "ipython3",
   "version": "3.6.5"
  }
 },
 "nbformat": 4,
 "nbformat_minor": 2
}
